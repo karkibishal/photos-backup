{
 "cells": [
  {
   "cell_type": "code",
   "execution_count": 2,
   "metadata": {},
   "outputs": [
    {
     "name": "stderr",
     "output_type": "stream",
     "text": [
      "1229it [00:01, 798.15it/s]\n"
     ]
    },
    {
     "name": "stdout",
     "output_type": "stream",
     "text": [
      "Backup complete.\n"
     ]
    }
   ],
   "source": [
    "from datetime import datetime\n",
    "from pathlib import Path\n",
    "import shutil\n",
    "import logging\n",
    "import time\n",
    "import re\n",
    "from tqdm import tqdm\n",
    "\n",
    "source_folder = Path(r'path\\to\\source\\folder')\n",
    "destination_folder = Path(r'path\\to\\destination\\folder')\n",
    "logfile = r'path\\to\\logfile.log'\n",
    "\n",
    "logging.basicConfig(level=logging.INFO, filename=r'path\\to\\logfile.log', \n",
    "                    filemode='a', format='[%(asctime)s] - %(levelname)s - %(message)s', datefmt='%Y-%m-%d %H:%M:%S')\n",
    "\n",
    "backup_counter = 0\n",
    "\n",
    "if Path(r'path\\to\\logfile.log').stat().st_size > 0:\n",
    "    with open(logfile, 'r') as file:\n",
    "        last_log = file.readlines()[-1]\n",
    "        matchobj = re.search('\\[(.*)\\]', last_log)\n",
    "        last_backup_date = re.sub('[\\[\\]]', '', matchobj.group())\n",
    "        last_backup_date = datetime.strptime(last_backup_date, '%Y-%m-%d %H:%M:%S')\n",
    "\n",
    "    for file in tqdm(source_folder.iterdir()):\n",
    "        creation_time = datetime.fromtimestamp(file.stat().st_ctime)\n",
    "        if creation_time > last_backup_date:\n",
    "            shutil.copy(file, destination_folder)\n",
    "            backup_counter += 1\n",
    "else:\n",
    "    for file in tqdm(source_folder.iterdir()):\n",
    "        shutil.copy(file, destination_folder)\n",
    "        backup_counter += 1\n",
    "\n",
    "\n",
    "logging.info('%s photos were backed up.', str(backup_counter))\n",
    "print(\"Backup complete.\")"
   ]
  }
 ],
 "metadata": {
  "kernelspec": {
   "display_name": "Python 3",
   "language": "python",
   "name": "python3"
  },
  "language_info": {
   "codemirror_mode": {
    "name": "ipython",
    "version": 3
   },
   "file_extension": ".py",
   "mimetype": "text/x-python",
   "name": "python",
   "nbconvert_exporter": "python",
   "pygments_lexer": "ipython3",
   "version": "3.8.5"
  }
 },
 "nbformat": 4,
 "nbformat_minor": 4
}
